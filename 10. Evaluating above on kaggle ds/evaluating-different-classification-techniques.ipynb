{
 "cells": [
  {
   "cell_type": "markdown",
   "metadata": {},
   "source": [
    "<div align=\"center\">\n",
    "<font size=4><b>\n",
    "Evaluating classification models for the KOI dataset\n",
    "</b>\n",
    "<font size=3><b>\n",
    "<br>Will Udstrand\n",
    "<br>April 15, 2019\n",
    "<br></font></b></div>\n",
    "\n",
    "---\n",
    "\n",
    "## Overview\n",
    "There are over 100 billion galaxies in the observable universe each containing billions of stars and of those stars roughly 10 percent of them are hosts stars. Kepler objects of Interest are the stars that have been identified as potential hosts. These host stars are important when searching for planets outside our solar system. The goal of this notebook is to explore different classification techniques that could be employed in order to help classify KOIs. The KOI dataset provided by NASA contains the attributes of each KOI and their current classification as a host, candidate or a non-host star. With this dataset five different classification models will be trained and tested, then there individual performances will be compared in order to determine which model is best fit for classifying KOIs.\n",
    "\n",
    "Classification models used\n",
    "- Naive Bayes\n",
    "- KNN\n",
    "- Support Vector Machine\n",
    "- Decision Tree\n",
    "- Multilevel Perceptron (Neural Network) \n",
    "\n",
    "\n",
    "\n",
    "## References\n",
    "* [KOI Dataset](https://www.kaggle.com/nasa/kepler-exoplanet-search-results)\n",
    "* [Exoplanet Info](https://en.wikipedia.org/wiki/Exoplanet)\n",
    "* [Kepler Objects of Interest Info](https://en.wikipedia.org/wiki/Kepler_object_of_interest)\n",
    "* [Number of stars in the universe](https://www.ast.cam.ac.uk/public/ask/2360)\n",
    "    \n",
    "## Imports\n"
   ]
  },
  {
   "cell_type": "code",
   "execution_count": 2,
   "metadata": {},
   "outputs": [
    {
     "ename": "ModuleNotFoundError",
     "evalue": "No module named 'scikitplot'",
     "output_type": "error",
     "traceback": [
      "\u001b[1;31m---------------------------------------------------------------------------\u001b[0m",
      "\u001b[1;31mModuleNotFoundError\u001b[0m                       Traceback (most recent call last)",
      "\u001b[1;32m<ipython-input-2-2e89fd439068>\u001b[0m in \u001b[0;36m<module>\u001b[1;34m\u001b[0m\n\u001b[0;32m     19\u001b[0m \u001b[1;32mfrom\u001b[0m \u001b[0msklearn\u001b[0m\u001b[1;33m.\u001b[0m\u001b[0mimpute\u001b[0m \u001b[1;32mimport\u001b[0m \u001b[0mSimpleImputer\u001b[0m\u001b[1;33m\u001b[0m\u001b[1;33m\u001b[0m\u001b[0m\n\u001b[0;32m     20\u001b[0m \u001b[1;32mimport\u001b[0m \u001b[0msklearn\u001b[0m\u001b[1;33m\u001b[0m\u001b[1;33m\u001b[0m\u001b[0m\n\u001b[1;32m---> 21\u001b[1;33m \u001b[1;32mimport\u001b[0m \u001b[0mscikitplot\u001b[0m \u001b[1;32mas\u001b[0m \u001b[0mskplt\u001b[0m\u001b[1;33m\u001b[0m\u001b[1;33m\u001b[0m\u001b[0m\n\u001b[0m",
      "\u001b[1;31mModuleNotFoundError\u001b[0m: No module named 'scikitplot'"
     ]
    }
   ],
   "source": [
    "# General Imports\n",
    "import pandas as pd\n",
    "import numpy as np\n",
    "import seaborn as sns\n",
    "import matplotlib.pyplot as plt\n",
    "from mpl_toolkits.mplot3d import Axes3D\n",
    " \n",
    "import sklearn\n",
    "# Model Imports\n",
    "from sklearn.decomposition import PCA\n",
    "from sklearn.preprocessing import MinMaxScaler\n",
    "from sklearn.model_selection import train_test_split\n",
    "from sklearn.naive_bayes import GaussianNB\n",
    "from sklearn.neighbors import KNeighborsClassifier\n",
    "from sklearn.svm import SVC\n",
    "from sklearn import tree\n",
    "from sklearn.neural_network import MLPClassifier\n",
    "from sklearn.metrics import classification_report\n",
    "from sklearn.impute import SimpleImputer\n",
    "import sklearn\n",
    "import scikitplot as skplt"
   ]
  },
  {
   "cell_type": "markdown",
   "metadata": {},
   "source": [
    "## Helper Class"
   ]
  },
  {
   "cell_type": "code",
   "execution_count": 3,
   "metadata": {},
   "outputs": [],
   "source": [
    "# This class is used for graphing box and wisker plots\n",
    "class visualizer:\n",
    "    def __init__(self, df, colname, fields, dimensions, figsize=None):\n",
    "        self.df = df\n",
    "        self.colname = colname\n",
    "        self.fields = fields\n",
    "        self.figsz = figsize\n",
    "        self.dim = dimensions\n",
    "        \n",
    "    def data(self, field):\n",
    "        vals = list(set(self.df[self.colname]))\n",
    "        return [self.df[self.df[self.colname] == i][field].values for i in vals]\n",
    "          \n",
    "    def plot(self, ax, field):\n",
    "        ax.set_title(field)\n",
    "        ax.set_xlabel(\"Classification\")\n",
    "        sns.boxplot(ax=ax, data = self.data(field), showfliers=False)\n",
    "    \n",
    "    def graph(self):\n",
    "        fig, axes = plt.subplots(nrows=self.dim[0], ncols=self.dim[1], figsize=self.figsz)\n",
    "        for ax, field in zip(axes.reshape(-1), self.fields):\n",
    "            self.plot(ax, field)\n",
    "                       "
   ]
  },
  {
   "cell_type": "markdown",
   "metadata": {},
   "source": [
    "## Data Eploration and Analysis\n",
    "\n",
    "#### Kepler Exoplanet Data\n",
    "The Kepler space observatory, a satellite built and monitored by NASA, was launched in 2009 with the hopes of discovering other planets that could inhabit life (i.e. Exoplanets). In order to find these planets the observatory must discover other solar systems. The observatory does this by identifying stars that have signatures that indicate transiting planets. These stars are called Kepler's objects of interest (KOI). Although their stellar fluctuations follow patterns consistent with that of a star that has transiting planets, some of the patterns identified are due to other influences. Therefore, there are KOIs that are hosts to planet(s) and some that mimic the signature of a host star. The following data is a record of all the Kepler objects of interest that the Kepler space observatory has been monitoring. \n",
    "\n",
    "[Data Field Descriptions](https://exoplanetarchive.ipac.caltech.edu/docs/API_kepcandidate_columns.html)\n"
   ]
  },
  {
   "cell_type": "code",
   "execution_count": 5,
   "metadata": {},
   "outputs": [
    {
     "name": "stdout",
     "output_type": "stream",
     "text": [
      "Dimensions:  (9564, 50)\n"
     ]
    },
    {
     "data": {
      "text/html": [
       "<div>\n",
       "<style scoped>\n",
       "    .dataframe tbody tr th:only-of-type {\n",
       "        vertical-align: middle;\n",
       "    }\n",
       "\n",
       "    .dataframe tbody tr th {\n",
       "        vertical-align: top;\n",
       "    }\n",
       "\n",
       "    .dataframe thead th {\n",
       "        text-align: right;\n",
       "    }\n",
       "</style>\n",
       "<table border=\"1\" class=\"dataframe\">\n",
       "  <thead>\n",
       "    <tr style=\"text-align: right;\">\n",
       "      <th></th>\n",
       "      <th>rowid</th>\n",
       "      <th>kepid</th>\n",
       "      <th>kepoi_name</th>\n",
       "      <th>kepler_name</th>\n",
       "      <th>koi_disposition</th>\n",
       "      <th>koi_pdisposition</th>\n",
       "      <th>koi_score</th>\n",
       "      <th>koi_fpflag_nt</th>\n",
       "      <th>koi_fpflag_ss</th>\n",
       "      <th>koi_fpflag_co</th>\n",
       "      <th>...</th>\n",
       "      <th>koi_steff_err2</th>\n",
       "      <th>koi_slogg</th>\n",
       "      <th>koi_slogg_err1</th>\n",
       "      <th>koi_slogg_err2</th>\n",
       "      <th>koi_srad</th>\n",
       "      <th>koi_srad_err1</th>\n",
       "      <th>koi_srad_err2</th>\n",
       "      <th>ra</th>\n",
       "      <th>dec</th>\n",
       "      <th>koi_kepmag</th>\n",
       "    </tr>\n",
       "  </thead>\n",
       "  <tbody>\n",
       "    <tr>\n",
       "      <th>0</th>\n",
       "      <td>1</td>\n",
       "      <td>10797460</td>\n",
       "      <td>K00752.01</td>\n",
       "      <td>Kepler-227 b</td>\n",
       "      <td>CONFIRMED</td>\n",
       "      <td>CANDIDATE</td>\n",
       "      <td>1.000</td>\n",
       "      <td>0</td>\n",
       "      <td>0</td>\n",
       "      <td>0</td>\n",
       "      <td>...</td>\n",
       "      <td>-81.0</td>\n",
       "      <td>4.467</td>\n",
       "      <td>0.064</td>\n",
       "      <td>-0.096</td>\n",
       "      <td>0.927</td>\n",
       "      <td>0.105</td>\n",
       "      <td>-0.061</td>\n",
       "      <td>291.93423</td>\n",
       "      <td>48.141651</td>\n",
       "      <td>15.347</td>\n",
       "    </tr>\n",
       "    <tr>\n",
       "      <th>1</th>\n",
       "      <td>2</td>\n",
       "      <td>10797460</td>\n",
       "      <td>K00752.02</td>\n",
       "      <td>Kepler-227 c</td>\n",
       "      <td>CONFIRMED</td>\n",
       "      <td>CANDIDATE</td>\n",
       "      <td>0.969</td>\n",
       "      <td>0</td>\n",
       "      <td>0</td>\n",
       "      <td>0</td>\n",
       "      <td>...</td>\n",
       "      <td>-81.0</td>\n",
       "      <td>4.467</td>\n",
       "      <td>0.064</td>\n",
       "      <td>-0.096</td>\n",
       "      <td>0.927</td>\n",
       "      <td>0.105</td>\n",
       "      <td>-0.061</td>\n",
       "      <td>291.93423</td>\n",
       "      <td>48.141651</td>\n",
       "      <td>15.347</td>\n",
       "    </tr>\n",
       "    <tr>\n",
       "      <th>2</th>\n",
       "      <td>3</td>\n",
       "      <td>10811496</td>\n",
       "      <td>K00753.01</td>\n",
       "      <td>NaN</td>\n",
       "      <td>FALSE POSITIVE</td>\n",
       "      <td>FALSE POSITIVE</td>\n",
       "      <td>0.000</td>\n",
       "      <td>0</td>\n",
       "      <td>1</td>\n",
       "      <td>0</td>\n",
       "      <td>...</td>\n",
       "      <td>-176.0</td>\n",
       "      <td>4.544</td>\n",
       "      <td>0.044</td>\n",
       "      <td>-0.176</td>\n",
       "      <td>0.868</td>\n",
       "      <td>0.233</td>\n",
       "      <td>-0.078</td>\n",
       "      <td>297.00482</td>\n",
       "      <td>48.134129</td>\n",
       "      <td>15.436</td>\n",
       "    </tr>\n",
       "    <tr>\n",
       "      <th>3</th>\n",
       "      <td>4</td>\n",
       "      <td>10848459</td>\n",
       "      <td>K00754.01</td>\n",
       "      <td>NaN</td>\n",
       "      <td>FALSE POSITIVE</td>\n",
       "      <td>FALSE POSITIVE</td>\n",
       "      <td>0.000</td>\n",
       "      <td>0</td>\n",
       "      <td>1</td>\n",
       "      <td>0</td>\n",
       "      <td>...</td>\n",
       "      <td>-174.0</td>\n",
       "      <td>4.564</td>\n",
       "      <td>0.053</td>\n",
       "      <td>-0.168</td>\n",
       "      <td>0.791</td>\n",
       "      <td>0.201</td>\n",
       "      <td>-0.067</td>\n",
       "      <td>285.53461</td>\n",
       "      <td>48.285210</td>\n",
       "      <td>15.597</td>\n",
       "    </tr>\n",
       "    <tr>\n",
       "      <th>4</th>\n",
       "      <td>5</td>\n",
       "      <td>10854555</td>\n",
       "      <td>K00755.01</td>\n",
       "      <td>Kepler-664 b</td>\n",
       "      <td>CONFIRMED</td>\n",
       "      <td>CANDIDATE</td>\n",
       "      <td>1.000</td>\n",
       "      <td>0</td>\n",
       "      <td>0</td>\n",
       "      <td>0</td>\n",
       "      <td>...</td>\n",
       "      <td>-211.0</td>\n",
       "      <td>4.438</td>\n",
       "      <td>0.070</td>\n",
       "      <td>-0.210</td>\n",
       "      <td>1.046</td>\n",
       "      <td>0.334</td>\n",
       "      <td>-0.133</td>\n",
       "      <td>288.75488</td>\n",
       "      <td>48.226200</td>\n",
       "      <td>15.509</td>\n",
       "    </tr>\n",
       "  </tbody>\n",
       "</table>\n",
       "<p>5 rows × 50 columns</p>\n",
       "</div>"
      ],
      "text/plain": [
       "   rowid     kepid kepoi_name   kepler_name koi_disposition koi_pdisposition  \\\n",
       "0      1  10797460  K00752.01  Kepler-227 b       CONFIRMED        CANDIDATE   \n",
       "1      2  10797460  K00752.02  Kepler-227 c       CONFIRMED        CANDIDATE   \n",
       "2      3  10811496  K00753.01           NaN  FALSE POSITIVE   FALSE POSITIVE   \n",
       "3      4  10848459  K00754.01           NaN  FALSE POSITIVE   FALSE POSITIVE   \n",
       "4      5  10854555  K00755.01  Kepler-664 b       CONFIRMED        CANDIDATE   \n",
       "\n",
       "   koi_score  koi_fpflag_nt  koi_fpflag_ss  koi_fpflag_co  ...  \\\n",
       "0      1.000              0              0              0  ...   \n",
       "1      0.969              0              0              0  ...   \n",
       "2      0.000              0              1              0  ...   \n",
       "3      0.000              0              1              0  ...   \n",
       "4      1.000              0              0              0  ...   \n",
       "\n",
       "   koi_steff_err2  koi_slogg  koi_slogg_err1  koi_slogg_err2  koi_srad  \\\n",
       "0           -81.0      4.467           0.064          -0.096     0.927   \n",
       "1           -81.0      4.467           0.064          -0.096     0.927   \n",
       "2          -176.0      4.544           0.044          -0.176     0.868   \n",
       "3          -174.0      4.564           0.053          -0.168     0.791   \n",
       "4          -211.0      4.438           0.070          -0.210     1.046   \n",
       "\n",
       "   koi_srad_err1  koi_srad_err2         ra        dec  koi_kepmag  \n",
       "0          0.105         -0.061  291.93423  48.141651      15.347  \n",
       "1          0.105         -0.061  291.93423  48.141651      15.347  \n",
       "2          0.233         -0.078  297.00482  48.134129      15.436  \n",
       "3          0.201         -0.067  285.53461  48.285210      15.597  \n",
       "4          0.334         -0.133  288.75488  48.226200      15.509  \n",
       "\n",
       "[5 rows x 50 columns]"
      ]
     },
     "execution_count": 5,
     "metadata": {},
     "output_type": "execute_result"
    }
   ],
   "source": [
    "# Reading in the kepler exoplanet data from csv\n",
    "kepler_df = pd.read_csv(\"data/cumulative.csv\")\n",
    "\n",
    "print(\"Dimensions: \", kepler_df.shape)\n",
    "kepler_df.head()"
   ]
  },
  {
   "cell_type": "markdown",
   "metadata": {},
   "source": [
    "The Kepler objects of interest have three columns that describe their current classification.\n",
    "\n",
    "| Column name      |  data type |  Description                                                            |\n",
    "|------------------|------------|-------------------------------------------------------------------------| \n",
    "| koi_disposition  | object     |  Current classification of the KOI                                      | \n",
    "| koi_pdisposition | object     |  Identifies the most probable classification                            | \n",
    "| koi_score        | float64    |  Confidence value of the KOI's disposition (lower values are good for false positives)                              |\n",
    "\n",
    "Each KOI can be classified in one of the following ways. \n",
    "\n",
    "| Classification | Meaning                                                                                 |\n",
    "|----------------|-----------------------------------------------------------------------------------------|\n",
    "| CONFIRMED (0)      | KOI is a host star                                                        |\n",
    "| CANDIDATE (1)     | KOI has passed all prior tests used in identifying false positives |\n",
    "| FALSE POSITIVE (2) | KOI is NOT a host star                |\n",
    "\n",
    "\n",
    "#### Composition of Classifications"
   ]
  },
  {
   "cell_type": "code",
   "execution_count": 6,
   "metadata": {},
   "outputs": [
    {
     "data": {
      "text/html": [
       "<div>\n",
       "<style scoped>\n",
       "    .dataframe tbody tr th:only-of-type {\n",
       "        vertical-align: middle;\n",
       "    }\n",
       "\n",
       "    .dataframe tbody tr th {\n",
       "        vertical-align: top;\n",
       "    }\n",
       "\n",
       "    .dataframe thead tr th {\n",
       "        text-align: left;\n",
       "    }\n",
       "\n",
       "    .dataframe thead tr:last-of-type th {\n",
       "        text-align: right;\n",
       "    }\n",
       "</style>\n",
       "<table border=\"1\" class=\"dataframe\">\n",
       "  <thead>\n",
       "    <tr>\n",
       "      <th></th>\n",
       "      <th>koi_disposition</th>\n",
       "      <th>koi_score</th>\n",
       "    </tr>\n",
       "    <tr>\n",
       "      <th></th>\n",
       "      <th>count</th>\n",
       "      <th>mean</th>\n",
       "    </tr>\n",
       "    <tr>\n",
       "      <th>koi_disposition</th>\n",
       "      <th></th>\n",
       "      <th></th>\n",
       "    </tr>\n",
       "  </thead>\n",
       "  <tbody>\n",
       "    <tr>\n",
       "      <th>CANDIDATE</th>\n",
       "      <td>2248</td>\n",
       "      <td>0.900210</td>\n",
       "    </tr>\n",
       "    <tr>\n",
       "      <th>CONFIRMED</th>\n",
       "      <td>2293</td>\n",
       "      <td>0.962597</td>\n",
       "    </tr>\n",
       "    <tr>\n",
       "      <th>FALSE POSITIVE</th>\n",
       "      <td>5023</td>\n",
       "      <td>0.014899</td>\n",
       "    </tr>\n",
       "  </tbody>\n",
       "</table>\n",
       "</div>"
      ],
      "text/plain": [
       "                koi_disposition koi_score\n",
       "                          count      mean\n",
       "koi_disposition                          \n",
       "CANDIDATE                  2248  0.900210\n",
       "CONFIRMED                  2293  0.962597\n",
       "FALSE POSITIVE             5023  0.014899"
      ]
     },
     "execution_count": 6,
     "metadata": {},
     "output_type": "execute_result"
    }
   ],
   "source": [
    "agg_fxns = {\n",
    "    'koi_disposition': ['count'],\n",
    "    'koi_score': ['mean']\n",
    "}\n",
    "\n",
    "kepler_df.groupby(['koi_disposition']).agg(agg_fxns)"
   ]
  },
  {
   "cell_type": "code",
   "execution_count": 7,
   "metadata": {},
   "outputs": [
    {
     "data": {
      "text/html": [
       "<div>\n",
       "<style scoped>\n",
       "    .dataframe tbody tr th:only-of-type {\n",
       "        vertical-align: middle;\n",
       "    }\n",
       "\n",
       "    .dataframe tbody tr th {\n",
       "        vertical-align: top;\n",
       "    }\n",
       "\n",
       "    .dataframe thead tr th {\n",
       "        text-align: left;\n",
       "    }\n",
       "\n",
       "    .dataframe thead tr:last-of-type th {\n",
       "        text-align: right;\n",
       "    }\n",
       "</style>\n",
       "<table border=\"1\" class=\"dataframe\">\n",
       "  <thead>\n",
       "    <tr>\n",
       "      <th></th>\n",
       "      <th>koi_pdisposition</th>\n",
       "      <th>koi_score</th>\n",
       "    </tr>\n",
       "    <tr>\n",
       "      <th></th>\n",
       "      <th>count</th>\n",
       "      <th>mean</th>\n",
       "    </tr>\n",
       "    <tr>\n",
       "      <th>koi_pdisposition</th>\n",
       "      <th></th>\n",
       "      <th></th>\n",
       "    </tr>\n",
       "  </thead>\n",
       "  <tbody>\n",
       "    <tr>\n",
       "      <th>CANDIDATE</th>\n",
       "      <td>4496</td>\n",
       "      <td>0.944312</td>\n",
       "    </tr>\n",
       "    <tr>\n",
       "      <th>FALSE POSITIVE</th>\n",
       "      <td>5068</td>\n",
       "      <td>0.015733</td>\n",
       "    </tr>\n",
       "  </tbody>\n",
       "</table>\n",
       "</div>"
      ],
      "text/plain": [
       "                 koi_pdisposition koi_score\n",
       "                            count      mean\n",
       "koi_pdisposition                           \n",
       "CANDIDATE                    4496  0.944312\n",
       "FALSE POSITIVE               5068  0.015733"
      ]
     },
     "execution_count": 7,
     "metadata": {},
     "output_type": "execute_result"
    }
   ],
   "source": [
    "agg_fxns = {\n",
    "    'koi_pdisposition': ['count'],\n",
    "    'koi_score': ['mean']\n",
    "}\n",
    "\n",
    "kepler_df.groupby(['koi_pdisposition']).agg(agg_fxns)"
   ]
  },
  {
   "cell_type": "markdown",
   "metadata": {},
   "source": [
    "#### Cleaning the data"
   ]
  },
  {
   "cell_type": "code",
   "execution_count": 8,
   "metadata": {},
   "outputs": [],
   "source": [
    "# Replace the enumerated values in the kepler_df\n",
    "kepler_df = kepler_df.replace({'CONFIRMED': 0, 'CANDIDATE': 1, 'FALSE POSITIVE': 2})\n",
    "\n",
    "# Clean the Data Frame by removing all labels, and error values\n",
    "kepler_df = kepler_df.drop(['rowid', 'kepid', 'kepoi_name', 'kepler_name', 'koi_tce_delivname', \n",
    "                     'koi_period_err1', 'koi_period_err2', \n",
    "                     'koi_time0bk_err1', 'koi_time0bk_err2', \n",
    "                     'koi_impact_err1', 'koi_impact_err2',\n",
    "                     'koi_depth_err1', 'koi_depth_err2', \n",
    "                     'koi_prad_err1', 'koi_prad_err2', \n",
    "                     'koi_insol_err1', 'koi_insol_err2',\n",
    "                     'koi_steff_err1', 'koi_steff_err2', \n",
    "                     'koi_slogg_err1', 'koi_slogg_err2', \n",
    "                     'koi_srad_err1', 'koi_srad_err2', \n",
    "                     'koi_duration_err1', 'koi_duration_err2', \n",
    "                     'koi_teq_err1', 'koi_teq_err2'], axis=1)\n",
    "\n",
    "# Dealing with null data fields\n",
    "# kepler_df.fillna(0, inplace=True)\n",
    "kepler_df.fillna(kepler_df.mean(), inplace=True)"
   ]
  },
  {
   "cell_type": "markdown",
   "metadata": {},
   "source": [
    "#### Correlations between columns\n",
    "A lot of the fields within the dataset are of attributes that all KOIs have in common. Therefore most of the field will have little influence when trying to determine the classification of a KOI. Therefore, a correlation matrix can be used in order to identify which columns have an influence on the classification.\n",
    "\n",
    "[Correlation Matricies](https://www.datascience.com/blog/introduction-to-correlation-learn-data-science-tutorials)\n",
    "\n",
    "**NOTE: When analyzing the correlation between columns, columns that represented a label or error were disregarded.**"
   ]
  },
  {
   "cell_type": "code",
   "execution_count": 9,
   "metadata": {},
   "outputs": [
    {
     "data": {
      "text/plain": [
       "<matplotlib.axes._subplots.AxesSubplot at 0x255cb787308>"
      ]
     },
     "execution_count": 9,
     "metadata": {},
     "output_type": "execute_result"
    },
    {
     "data": {
      "image/png": "[encoded data removed]",
      "text/plain": [
       "<Figure size 648x504 with 2 Axes>"
      ]
     },
     "metadata": {
      "needs_background": "light"
     },
     "output_type": "display_data"
    }
   ],
   "source": [
    "# Building a correlation matrix\n",
    "corr = kepler_df.corr()\n",
    "f, ax = plt.subplots(figsize=(9, 7))\n",
    "sns.heatmap(corr, mask=np.zeros_like(corr, dtype=np.bool), cmap=sns.diverging_palette(220, 10, as_cmap=True),\n",
    "            square=True, ax=ax)"
   ]
  },
  {
   "cell_type": "markdown",
   "metadata": {},
   "source": [
    "From the correlation matrix, columns with a value higher than 0.2 and lower that -0.2 when compared with the koi_disposition and koi_pdisposition columns, were extracted and identified as columns of interest.\n",
    "  \n",
    "| Column name      |  data type |  Description                                                            | \n",
    "|------------------|------------|-------------------------------------------------------------------------|\n",
    "| koi_score        | float64    |  Confidence value of the KOI's disposition                              | \n",
    "| koi_fpflag_nt          | int64    |  A KOI whose light curve is not consistent with that of a transiting planet. This includes, but is not limited to, instrumental artifacts, non-eclipsing variable stars, and spurious (very low SNR) detections.      | \n",
    "| koi_fpflag_ss        | int64    |  A KOI that is observed to have a significant secondary event, transit shape, or out-of-eclipse variability, which indicates that the transit-like event is most likely caused by an eclipsing binary. However, self-luminous, hot Jupiter’s with a visible secondary eclipse will also have this flag set, but with a disposition of PC.                                              | \n",
    "| koi_fpflag_co        | int64    |  The source of the signal is from a nearby star, as inferred by measuring the centroid location of the image both in and out of transit, or by the strength of the transit signal in the target's outer (halo) pixels as compared to the transit signal from the pixels in the optimal (or core) aperture.                | \n",
    "| koi_fpflag_ec         | int64    |  The KOI shares the same period and epoch as another object and is judged to be the result of flux contamination in the aperture or electronic crosstalk.                                                   | \n",
    "| koi_depth       | float64    | The fraction of stellar flux lost at the minimum of the planetary transit.                                                           | \n",
    "| koi_teq       | float64    |  Approximation for the temperature of the planet.                                                           | \n",
    "| koi_model_snr       | float64    |  Transit depth normalized by the mean uncertainty in the flux during the transits.                                                            |  \n",
    "\n",
    "#### Analysis of the columns of interest\n"
   ]
  },
  {
   "cell_type": "code",
   "execution_count": 10,
   "metadata": {},
   "outputs": [
    {
     "data": {
      "text/html": [
       "<div>\n",
       "<style scoped>\n",
       "    .dataframe tbody tr th:only-of-type {\n",
       "        vertical-align: middle;\n",
       "    }\n",
       "\n",
       "    .dataframe tbody tr th {\n",
       "        vertical-align: top;\n",
       "    }\n",
       "\n",
       "    .dataframe thead th {\n",
       "        text-align: right;\n",
       "    }\n",
       "</style>\n",
       "<table border=\"1\" class=\"dataframe\">\n",
       "  <thead>\n",
       "    <tr style=\"text-align: right;\">\n",
       "      <th></th>\n",
       "      <th>koi_disposition</th>\n",
       "      <th>0</th>\n",
       "      <th>1</th>\n",
       "      <th>2</th>\n",
       "    </tr>\n",
       "  </thead>\n",
       "  <tbody>\n",
       "    <tr>\n",
       "      <th>koi_score</th>\n",
       "      <th>mean</th>\n",
       "      <td>0.960076</td>\n",
       "      <td>0.816073</td>\n",
       "      <td>0.112018</td>\n",
       "    </tr>\n",
       "    <tr>\n",
       "      <th>koi_fpflag_nt</th>\n",
       "      <th>mean</th>\n",
       "      <td>0.009158</td>\n",
       "      <td>0.000000</td>\n",
       "      <td>0.354171</td>\n",
       "    </tr>\n",
       "    <tr>\n",
       "      <th>koi_fpflag_ss</th>\n",
       "      <th>mean</th>\n",
       "      <td>0.011339</td>\n",
       "      <td>0.014235</td>\n",
       "      <td>0.429425</td>\n",
       "    </tr>\n",
       "    <tr>\n",
       "      <th>koi_fpflag_co</th>\n",
       "      <th>mean</th>\n",
       "      <td>0.002617</td>\n",
       "      <td>0.000000</td>\n",
       "      <td>0.369898</td>\n",
       "    </tr>\n",
       "    <tr>\n",
       "      <th>koi_fpflag_ec</th>\n",
       "      <th>mean</th>\n",
       "      <td>0.000436</td>\n",
       "      <td>0.000000</td>\n",
       "      <td>0.228350</td>\n",
       "    </tr>\n",
       "    <tr>\n",
       "      <th>koi_depth</th>\n",
       "      <th>mean</th>\n",
       "      <td>1151.324176</td>\n",
       "      <td>2478.743800</td>\n",
       "      <td>43664.768890</td>\n",
       "    </tr>\n",
       "    <tr>\n",
       "      <th>koi_teq</th>\n",
       "      <th>mean</th>\n",
       "      <td>839.233051</td>\n",
       "      <td>888.108233</td>\n",
       "      <td>1286.044468</td>\n",
       "    </tr>\n",
       "    <tr>\n",
       "      <th>koi_model_snr</th>\n",
       "      <th>mean</th>\n",
       "      <td>87.998297</td>\n",
       "      <td>51.601506</td>\n",
       "      <td>431.585806</td>\n",
       "    </tr>\n",
       "  </tbody>\n",
       "</table>\n",
       "</div>"
      ],
      "text/plain": [
       "koi_disposition               0            1             2\n",
       "koi_score     mean     0.960076     0.816073      0.112018\n",
       "koi_fpflag_nt mean     0.009158     0.000000      0.354171\n",
       "koi_fpflag_ss mean     0.011339     0.014235      0.429425\n",
       "koi_fpflag_co mean     0.002617     0.000000      0.369898\n",
       "koi_fpflag_ec mean     0.000436     0.000000      0.228350\n",
       "koi_depth     mean  1151.324176  2478.743800  43664.768890\n",
       "koi_teq       mean   839.233051   888.108233   1286.044468\n",
       "koi_model_snr mean    87.998297    51.601506    431.585806"
      ]
     },
     "execution_count": 10,
     "metadata": {},
     "output_type": "execute_result"
    }
   ],
   "source": [
    "agg_fxns = {\n",
    "    'koi_score': ['mean'],\n",
    "    'koi_fpflag_nt': ['mean'],\n",
    "    'koi_fpflag_ss': ['mean'],\n",
    "    'koi_fpflag_co': ['mean'],\n",
    "    'koi_fpflag_ec': ['mean'],\n",
    "    'koi_depth': ['mean'],\n",
    "    'koi_teq': ['mean'],\n",
    "    'koi_model_snr': ['mean']\n",
    "}\n",
    "kepler_df.groupby('koi_disposition').agg(agg_fxns).transpose()"
   ]
  },
  {
   "cell_type": "code",
   "execution_count": 11,
   "metadata": {},
   "outputs": [
    {
     "data": {
      "image/png": "[encoded data removed]",
      "text/plain": [
       "<Figure size 1080x360 with 4 Axes>"
      ]
     },
     "metadata": {
      "needs_background": "light"
     },
     "output_type": "display_data"
    }
   ],
   "source": [
    "fields = ['koi_score', 'koi_depth', 'koi_teq', 'koi_model_snr']\n",
    "id = 'koi_disposition'\n",
    "\n",
    "v = visualizer(kepler_df, 'koi_disposition', fields, (1,4), (15,5))\n",
    "v.graph()"
   ]
  },
  {
   "cell_type": "markdown",
   "metadata": {},
   "source": [
    "The graphs and table above illustrate the distribution of the values for each classification type in koi_dispostion column. As we can see from the four graphs the distributions for CONFIRMED(0) and CANDIDATE (1) KOIs are pretty similar, whereas the FALSE POSITIVE (2) distributions seem to have more variation and higher medians."
   ]
  },
  {
   "cell_type": "code",
   "execution_count": 12,
   "metadata": {
    "scrolled": true
   },
   "outputs": [
    {
     "data": {
      "text/html": [
       "<div>\n",
       "<style scoped>\n",
       "    .dataframe tbody tr th:only-of-type {\n",
       "        vertical-align: middle;\n",
       "    }\n",
       "\n",
       "    .dataframe tbody tr th {\n",
       "        vertical-align: top;\n",
       "    }\n",
       "\n",
       "    .dataframe thead th {\n",
       "        text-align: right;\n",
       "    }\n",
       "</style>\n",
       "<table border=\"1\" class=\"dataframe\">\n",
       "  <thead>\n",
       "    <tr style=\"text-align: right;\">\n",
       "      <th></th>\n",
       "      <th>koi_pdisposition</th>\n",
       "      <th>1</th>\n",
       "      <th>2</th>\n",
       "    </tr>\n",
       "  </thead>\n",
       "  <tbody>\n",
       "    <tr>\n",
       "      <th>koi_score</th>\n",
       "      <th>mean</th>\n",
       "      <td>0.896686</td>\n",
       "      <td>0.111909</td>\n",
       "    </tr>\n",
       "    <tr>\n",
       "      <th>koi_fpflag_nt</th>\n",
       "      <th>mean</th>\n",
       "      <td>0.000000</td>\n",
       "      <td>0.355170</td>\n",
       "    </tr>\n",
       "    <tr>\n",
       "      <th>koi_fpflag_ss</th>\n",
       "      <th>mean</th>\n",
       "      <td>0.009342</td>\n",
       "      <td>0.428769</td>\n",
       "    </tr>\n",
       "    <tr>\n",
       "      <th>koi_fpflag_co</th>\n",
       "      <th>mean</th>\n",
       "      <td>0.000000</td>\n",
       "      <td>0.367798</td>\n",
       "    </tr>\n",
       "    <tr>\n",
       "      <th>koi_fpflag_ec</th>\n",
       "      <th>mean</th>\n",
       "      <td>0.000000</td>\n",
       "      <td>0.226519</td>\n",
       "    </tr>\n",
       "    <tr>\n",
       "      <th>koi_depth</th>\n",
       "      <th>mean</th>\n",
       "      <td>1798.070209</td>\n",
       "      <td>43302.330874</td>\n",
       "    </tr>\n",
       "    <tr>\n",
       "      <th>koi_teq</th>\n",
       "      <th>mean</th>\n",
       "      <td>863.249179</td>\n",
       "      <td>1282.451016</td>\n",
       "    </tr>\n",
       "    <tr>\n",
       "      <th>koi_model_snr</th>\n",
       "      <th>mean</th>\n",
       "      <td>69.742835</td>\n",
       "      <td>428.585635</td>\n",
       "    </tr>\n",
       "  </tbody>\n",
       "</table>\n",
       "</div>"
      ],
      "text/plain": [
       "koi_pdisposition              1             2\n",
       "koi_score     mean     0.896686      0.111909\n",
       "koi_fpflag_nt mean     0.000000      0.355170\n",
       "koi_fpflag_ss mean     0.009342      0.428769\n",
       "koi_fpflag_co mean     0.000000      0.367798\n",
       "koi_fpflag_ec mean     0.000000      0.226519\n",
       "koi_depth     mean  1798.070209  43302.330874\n",
       "koi_teq       mean   863.249179   1282.451016\n",
       "koi_model_snr mean    69.742835    428.585635"
      ]
     },
     "execution_count": 12,
     "metadata": {},
     "output_type": "execute_result"
    }
   ],
   "source": [
    "kepler_df.groupby('koi_pdisposition').agg(agg_fxns).transpose()"
   ]
  },
  {
   "cell_type": "code",
   "execution_count": 13,
   "metadata": {},
   "outputs": [
    {
     "data": {
      "image/png": "[encoded data removed]",
      "text/plain": [
       "<Figure size 1080x360 with 4 Axes>"
      ]
     },
     "metadata": {
      "needs_background": "light"
     },
     "output_type": "display_data"
    }
   ],
   "source": [
    "fields = ['koi_score', 'koi_depth', 'koi_teq', 'koi_model_snr']\n",
    "id = 'koi_pdisposition'\n",
    "\n",
    "v = visualizer(kepler_df, 'koi_pdisposition', fields, (1,4), (15,5))\n",
    "v.graph()"
   ]
  },
  {
   "cell_type": "markdown",
   "metadata": {},
   "source": [
    "The graphs and table above illustrate the distributions of the values for each classification type in koi_pdispostion column. As we can see from the four graphs the distributions for CANDIDATE (0) KOIs has less variability, variation and tends to have a lower median on average when compared to the FALSE POSITIVE (1) distribution.\n",
    "\n",
    "#### Dimensionality Reduction\n",
    "After exploring the data it is obvious that there are only a handful of data fields that actually correlate to the classification of the star. Therefore, there is no need for all of the fields within the dataset, so it can be reduced using PCA. By using PCA a majority of the variation within the data will be captured even though the dataset has been shrunk. Thus, classification on the smaller dataset will still have the same effect as on the larger set.  \n",
    "\n",
    "[PCA Documentation](https://scikit-learn.org/stable/modules/generated/sklearn.decomposition.PCA.html#sklearn.decomposition.PCA.fit)\n",
    "\n",
    "[PCA Description](https://towardsdatascience.com/an-approach-to-choosing-the-number-of-components-in-a-principal-component-analysis-pca-3b9f3d6e73fe)\n"
   ]
  },
  {
   "cell_type": "code",
   "execution_count": 14,
   "metadata": {},
   "outputs": [
    {
     "data": {
      "image/png": "[encoded data removed]",
      "text/plain": [
       "<Figure size 432x288 with 1 Axes>"
      ]
     },
     "metadata": {
      "needs_background": "light"
     },
     "output_type": "display_data"
    }
   ],
   "source": [
    "# kepler_df.dtypes\n",
    "\n",
    "data = kepler_df.values\n",
    "\n",
    "scaler = MinMaxScaler(feature_range=[0, 1])\n",
    "\n",
    "# Removing first two columns because they are labels\n",
    "rescaled_data = scaler.fit_transform(data[:, 2:])\n",
    "\n",
    "pca = PCA().fit(rescaled_data)\n",
    "\n",
    "#Plotting the Cumulative Summation of the Explained Variance\n",
    "plt.figure()\n",
    "plt.plot(np.cumsum(pca.explained_variance_ratio_))\n",
    "plt.xlabel('Number of Components')\n",
    "plt.ylabel('Variance (%)') #for each component\n",
    "plt.xlim((0,15))\n",
    "plt.title('Variance in KOI Data')\n",
    "plt.show()"
   ]
  },
  {
   "cell_type": "markdown",
   "metadata": {},
   "source": [
    "As shown in the graph above there is only a need for eight principle components to capture the majority of the variance within the data as expected.  "
   ]
  },
  {
   "cell_type": "code",
   "execution_count": 15,
   "metadata": {},
   "outputs": [
    {
     "data": {
      "text/plain": [
       "(9564, 8)"
      ]
     },
     "execution_count": 15,
     "metadata": {},
     "output_type": "execute_result"
    }
   ],
   "source": [
    "pca = PCA(n_components=8)\n",
    "dataset = pca.fit_transform(rescaled_data)\n",
    "dataset.shape"
   ]
  },
  {
   "cell_type": "markdown",
   "metadata": {},
   "source": [
    "#### Visualization of the Reduced Space"
   ]
  },
  {
   "cell_type": "code",
   "execution_count": 16,
   "metadata": {},
   "outputs": [
    {
     "data": {
      "text/plain": [
       "<mpl_toolkits.mplot3d.art3d.Path3DCollection at 0x255d1a62448>"
      ]
     },
     "execution_count": 16,
     "metadata": {},
     "output_type": "execute_result"
    },
    {
     "data": {
      "image/png": "[encoded data removed]",
      "text/plain": [
       "<Figure size 432x288 with 1 Axes>"
      ]
     },
     "metadata": {
      "needs_background": "light"
     },
     "output_type": "display_data"
    }
   ],
   "source": [
    "fig = plt.figure()\n",
    "ax = Axes3D(fig)\n",
    "\n",
    "ax.scatter(dataset[:, 0], dataset[:, 1], dataset[:, 2], c=data[:,0])"
   ]
  },
  {
   "cell_type": "code",
   "execution_count": 17,
   "metadata": {},
   "outputs": [
    {
     "data": {
      "image/png": "[encoded data removed]",
      "text/plain": [
       "<Figure size 864x360 with 3 Axes>"
      ]
     },
     "metadata": {
      "needs_background": "light"
     },
     "output_type": "display_data"
    }
   ],
   "source": [
    "# Plot the differnt clusters\n",
    "titles = [\"Front View\", \"Top View\", \"Right View\"]\n",
    "marker = []\n",
    "fig, axes = plt.subplots(nrows=1, ncols=3, figsize=(12,5))\n",
    "for i, ax in enumerate(axes.reshape(-1)):\n",
    "    ax.scatter(dataset[:, i], dataset[:, i+1], c=data[:,0], marker=\"2\")\n",
    "    ax.set_title(titles[i])  "
   ]
  },
  {
   "cell_type": "markdown",
   "metadata": {},
   "source": [
    "The graphs above illustrate the data set after it has been mapped to the lower space using only the first eight principle components. Visually it only shows the mapping of the first three principle components, and it is already apparent that there is separation between the FALSE POSITIVE labels and the other labels. This obvious separation signifies that the data will work well when classifying FALSE POSITIVE labels with different classification models. But also indicates that there will be difficulty when trying to distinguish between CONFIRMED and CANDIDATE labels due to their points overlapping.\n",
    "\n",
    "#### Splitting data into training and test set"
   ]
  },
  {
   "cell_type": "code",
   "execution_count": 18,
   "metadata": {},
   "outputs": [
    {
     "name": "stdout",
     "output_type": "stream",
     "text": [
      "Training set size:  (6407, 8)\n",
      "Test set size:  (3157, 8)\n"
     ]
    }
   ],
   "source": [
    "# classification = data[:, 1:2] # koi_pdisposition\n",
    "classification = data[:, :1]\n",
    "train, test, trainC, testC = train_test_split(dataset, classification, test_size=0.33, random_state=0)\n",
    "\n",
    "print(\"Training set size: \", train.shape)\n",
    "print(\"Test set size: \", test.shape)"
   ]
  },
  {
   "cell_type": "markdown",
   "metadata": {},
   "source": [
    "## Models\n",
    "Measurement Definitions\n",
    "* **f1-score**:  F1 Score is the weighted average of Precision and Recall. Therefore, this score takes both false positives and false negatives into account. \n",
    "* **precision**: Precision is the ratio of correctly predicted positive observations to the total predicted positive observations.\n",
    "* **recall**:  Recall is the ratio of correctly predicted positive observations to the all observations in actual class\n",
    "\n",
    "[Sklearn Metrics Documentation](https://scikit-learn.org/stable/modules/classes.html#module-sklearn.metrics)\n",
    "\n",
    "\n",
    "[Model Performance Interpretation](https://blog.exsilio.com/all/accuracy-precision-recall-f1-score-interpretation-of-performance-measures/)"
   ]
  },
  {
   "cell_type": "code",
   "execution_count": 22,
   "metadata": {},
   "outputs": [],
   "source": [
    "# target_names = ['CANDIDATE', 'FALSE POSITIVE'] # koi_pdisposition\n",
    "target_names = ['CONFIRMED', 'CANDIDATE', 'FALSE POSITIVE']\n",
    "\n",
    "def run_model(model):\n",
    "    # Train and fit the model\n",
    "    model.fit(train, trainC.ravel())\n",
    "    # Predict the test data\n",
    "    predictions = model.predict(test)\n",
    "    # Compute model metrics\n",
    "    overall_precision = np.mean(predictions == testC.ravel()) \n",
    "    print(\"Percentage of correct predictions: \", overall_precision)\n",
    "    report = classification_report(predictions, testC, target_names=target_names, output_dict=True)\n",
    "    #report = pd.DataFrame(data=report)\n",
    "    report = pd.DataFrame(data=report).drop(['macro avg', 'weighted avg'], axis=1)\n",
    "    print(\"\\n\", report)\n",
    "    return report.drop(['precision', 'recall', 'support']) "
   ]
  },
  {
   "cell_type": "markdown",
   "metadata": {},
   "source": [
    "#### Naive Bayes\n",
    "Naive Bayes is a supervised learning technique that utilizes Bayes’ Theorem along with some other assumptions about the conditional independence of the features to classify points. When classifying points, the label with the highest conditional probability is the label given to the point.\n",
    "\n",
    "[Naive Bayes Documentation](https://scikit-learn.org/stable/modules/generated/sklearn.naive_bayes.GaussianNB.html#sklearn.naive_bayes.GaussianNB)\n",
    "\n",
    "[Naive Bayes Description](https://scikit-learn.org/stable/modules/naive_bayes.html)"
   ]
  },
  {
   "cell_type": "code",
   "execution_count": 23,
   "metadata": {},
   "outputs": [
    {
     "name": "stdout",
     "output_type": "stream",
     "text": [
      "Percentage of correct predictions:  0.8127969591384225\n",
      "\n",
      "              CONFIRMED   CANDIDATE  FALSE POSITIVE  accuracy\n",
      "precision     0.911171    0.352318        0.978300  0.812797\n",
      "recall        0.594903    0.760000        0.972439  0.812797\n",
      "f1-score      0.719830    0.481448        0.975361  0.812797\n",
      "support    1138.000000  350.000000     1669.000000  0.812797\n"
     ]
    }
   ],
   "source": [
    "gc = GaussianNB()\n",
    "gc_report = run_model(gc)"
   ]
  },
  {
   "cell_type": "markdown",
   "metadata": {},
   "source": [
    "The precision metrics above for the Naive Bayes model indicates that when a data point is classified as CONFIRMED or FALSE POSITIVE it is right over 90% of the time, and only 35% of the time is it right when classified as a CANDIDATE. Additionally, the recall metric shows that the model only predicts 59% of the CONFIRMED labels, 76% of the CANDIDATE labels and 97% of the FALSE POSITIVE labels.\n",
    "\n",
    "#### KNN\n",
    "KNN is a supervised learning algorithm that uses the proximity of data points to classify new points. Rather than learning a function used to classify new data points, KNN keeps the entire training set and uses it to classify the new points. KNN classifies new points by looking at their k nearest neighbors, which is determine by some proximity measurement, and the most prominent label in the k neighbors is the label given to the new point.\n",
    "\n",
    "[KNN Documentation](https://scikit-learn.org/stable/modules/generated/sklearn.neighbors.KNeighborsClassifier.html)\n",
    "\n",
    "[KNN Description](https://en.wikipedia.org/wiki/K-nearest_neighbors_algorithm)"
   ]
  },
  {
   "cell_type": "code",
   "execution_count": 24,
   "metadata": {},
   "outputs": [
    {
     "name": "stdout",
     "output_type": "stream",
     "text": [
      "Percentage of correct predictions:  0.8194488438390878\n",
      "\n",
      "             CONFIRMED   CANDIDATE  FALSE POSITIVE  accuracy\n",
      "precision    0.740242    0.541722        0.981314  0.819449\n",
      "recall       0.622172    0.663961        0.982498  0.819449\n",
      "f1-score     0.676091    0.596645        0.981906  0.819449\n",
      "support    884.000000  616.000000     1657.000000  0.819449\n"
     ]
    }
   ],
   "source": [
    "knn = KNeighborsClassifier(n_neighbors=7)\n",
    "knn_report = run_model(knn)"
   ]
  },
  {
   "cell_type": "markdown",
   "metadata": {},
   "source": [
    "The precision metrics above for the kth nearest neighbor model indicates that when a data point is classified as CONFIRMED it is right 62% of the time, if it is classified as a CANDIDATE it is right 35% of the time, and finally if it is classified as FALSE POSITIVE it is right 98% of the time. Additionally, the recall metric shows that the model only predicts 62% of the CONFIRMED labels, 66% of the CANDIDATE labels and 98% of the FALSE POSITIVE labels.\n",
    "\n",
    "#### SVM\n",
    "Support vector machines are a supervised learning model that tries to find the largest gap that separates the different labels within the data. It then uses this gap to determine the label of new points being classified.\n",
    "\n",
    "[SVM Documentation](https://scikit-learn.org/stable/modules/generated/sklearn.svm.SVC.html)\n",
    "\n",
    "[SVM Description](https://en.wikipedia.org/wiki/Support-vector_machine)"
   ]
  },
  {
   "cell_type": "code",
   "execution_count": 25,
   "metadata": {},
   "outputs": [
    {
     "name": "stdout",
     "output_type": "stream",
     "text": [
      "Percentage of correct predictions:  0.8089958821666139\n",
      "\n",
      "              CONFIRMED   CANDIDATE  FALSE POSITIVE  accuracy\n",
      "precision     0.947510    0.300662        0.978300  0.808996\n",
      "recall        0.576105    0.796491        0.983636  0.808996\n",
      "f1-score      0.716539    0.436538        0.980961  0.808996\n",
      "support    1222.000000  285.000000     1650.000000  0.808996\n"
     ]
    }
   ],
   "source": [
    "svm = SVC(gamma='auto', probability=True)\n",
    "svm_report = run_model(svm)"
   ]
  },
  {
   "cell_type": "markdown",
   "metadata": {},
   "source": [
    "The precision metrics above for the support vector machine indicates that when a data point is classified as CONFIRMED or FALSE POSITIVE it is right over 94% of the time, and only 30% of the time is it right when classified as a CANDIDATE. Additionally, the recall metric shows that the model only predicts 57% of the CONFIRMED labels, 79% of the CANDIDATE labels and 98% of the FALSE POSITIVE labels.\n",
    "\n",
    "#### Decision Tree\n",
    "The decision tree is a supervised learning model that predicts the value of a target variable by learning simple decision rules that are inferred from the data features.\n",
    "\n",
    "[Decision Tree Documentation](https://scikit-learn.org/stable/modules/generated/sklearn.tree.DecisionTreeClassifier.html#sklearn.tree.DecisionTreeClassifier)\n",
    "\n",
    "[Decision Tree Description](https://scikit-learn.org/stable/modules/tree.html)"
   ]
  },
  {
   "cell_type": "code",
   "execution_count": 26,
   "metadata": {},
   "outputs": [
    {
     "name": "stdout",
     "output_type": "stream",
     "text": [
      "Percentage of correct predictions:  0.8039277795375356\n",
      "\n",
      "             CONFIRMED   CANDIDATE  FALSE POSITIVE  accuracy\n",
      "precision    0.643338    0.600000        0.968656  0.803928\n",
      "recall       0.619974    0.616327        0.973349  0.803928\n",
      "f1-score     0.631440    0.608054        0.970997  0.803928\n",
      "support    771.000000  735.000000     1651.000000  0.803928\n"
     ]
    }
   ],
   "source": [
    "dt = tree.DecisionTreeClassifier()\n",
    "dt_report = run_model(dt)"
   ]
  },
  {
   "cell_type": "markdown",
   "metadata": {},
   "source": [
    "The precision metrics above for the decision tree model indicates that when a data point is classified as CONFIRMED it is right 66% of the time, if it is classified as a CANDIDATE it is right 58% of the time, and finally if it is classified as FALSE POSITIVE it is right 96% of the time. Additionally, the recall metric shows that the model only predicts 62% of the CONFIRMED labels, 62% of the CANDIDATE labels and 97% of the FALSE POSITIVE labels.\n",
    "\n",
    "\n",
    "#### Neural Network\n",
    "Neural networks are a supervised learning technique that uses the input data and their known labels to learn a non-linear function that takes an input and outputs a classification.\n",
    "\n",
    "[Neural Network Documentation](https://scikit-learn.org/stable/modules/generated/sklearn.neural_network.MLPClassifier.html#sklearn.neural_network.MLPClassifier)\n",
    "\n",
    "[Neural Network Description](https://scikit-learn.org/stable/modules/neural_networks_supervised.html)"
   ]
  },
  {
   "cell_type": "code",
   "execution_count": 27,
   "metadata": {},
   "outputs": [
    {
     "name": "stdout",
     "output_type": "stream",
     "text": [
      "Percentage of correct predictions:  0.8292682926829268\n",
      "\n",
      "              CONFIRMED   CANDIDATE  FALSE POSITIVE  accuracy\n",
      "precision     0.881561    0.450331        0.978300  0.829268\n",
      "recall        0.614447    0.758929        0.987827  0.829268\n",
      "f1-score      0.724157    0.565254        0.983041  0.829268\n",
      "support    1066.000000  448.000000     1643.000000  0.829268\n"
     ]
    },
    {
     "name": "stderr",
     "output_type": "stream",
     "text": [
      "E:\\Users\\Basharat\\Anaconda3\\envs\\Bash\\lib\\site-packages\\sklearn\\neural_network\\_multilayer_perceptron.py:471: ConvergenceWarning: lbfgs failed to converge (status=1):\n",
      "STOP: TOTAL NO. of ITERATIONS REACHED LIMIT.\n",
      "\n",
      "Increase the number of iterations (max_iter) or scale the data as shown in:\n",
      "    https://scikit-learn.org/stable/modules/preprocessing.html\n",
      "  self.n_iter_ = _check_optimize_result(\"lbfgs\", opt_res, self.max_iter)\n"
     ]
    }
   ],
   "source": [
    "nn = MLPClassifier(solver='lbfgs', alpha=1e-5,\n",
    "                     hidden_layer_sizes=(5, 2), random_state=1)\n",
    "nn_report = run_model(nn)"
   ]
  },
  {
   "cell_type": "markdown",
   "metadata": {},
   "source": [
    "The precision metrics above for the neural network indicates that when a data point is classified as CONFIRMED it is right 79% of the time, if it is classified as a CANDIDATE it is right 58% of the time, and finally if it is classified as FALSE POSITIVE it is right 98% of the time. Additionally, the recall metric shows that the model only predicts 66% of the CONFIRMED labels, 72% of the CANDIDATE labels and 98% of the FALSE POSITIVE labels.\n",
    "\n",
    "#### Model Analysis\n",
    "[Scikitplot Documentation](https://scikit-plot.readthedocs.io/en/stable/)"
   ]
  },
  {
   "cell_type": "code",
   "execution_count": 28,
   "metadata": {},
   "outputs": [
    {
     "ename": "NameError",
     "evalue": "name 'skplt' is not defined",
     "output_type": "error",
     "traceback": [
      "\u001b[1;31m---------------------------------------------------------------------------\u001b[0m",
      "\u001b[1;31mNameError\u001b[0m                                 Traceback (most recent call last)",
      "\u001b[1;32m<ipython-input-28-8ad7c82aa36a>\u001b[0m in \u001b[0;36m<module>\u001b[1;34m\u001b[0m\n\u001b[0;32m      6\u001b[0m \u001b[0mfig\u001b[0m\u001b[1;33m,\u001b[0m \u001b[0maxes\u001b[0m \u001b[1;33m=\u001b[0m \u001b[0mplt\u001b[0m\u001b[1;33m.\u001b[0m\u001b[0msubplots\u001b[0m\u001b[1;33m(\u001b[0m\u001b[0mnrows\u001b[0m\u001b[1;33m=\u001b[0m\u001b[1;36m1\u001b[0m\u001b[1;33m,\u001b[0m \u001b[0mncols\u001b[0m\u001b[1;33m=\u001b[0m\u001b[1;36m5\u001b[0m\u001b[1;33m,\u001b[0m \u001b[0mfigsize\u001b[0m\u001b[1;33m=\u001b[0m\u001b[1;33m(\u001b[0m\u001b[1;36m30\u001b[0m\u001b[1;33m,\u001b[0m\u001b[1;36m6\u001b[0m\u001b[1;33m)\u001b[0m\u001b[1;33m)\u001b[0m\u001b[1;33m\u001b[0m\u001b[1;33m\u001b[0m\u001b[0m\n\u001b[0;32m      7\u001b[0m \u001b[1;32mfor\u001b[0m \u001b[0max\u001b[0m\u001b[1;33m,\u001b[0m \u001b[0mmodel\u001b[0m \u001b[1;32min\u001b[0m \u001b[0mzip\u001b[0m\u001b[1;33m(\u001b[0m\u001b[0maxes\u001b[0m\u001b[1;33m,\u001b[0m \u001b[0mmodels\u001b[0m\u001b[1;33m)\u001b[0m\u001b[1;33m:\u001b[0m\u001b[1;33m\u001b[0m\u001b[1;33m\u001b[0m\u001b[0m\n\u001b[1;32m----> 8\u001b[1;33m     \u001b[0mplot_roc\u001b[0m\u001b[1;33m(\u001b[0m\u001b[0max\u001b[0m\u001b[1;33m,\u001b[0m \u001b[0mmodel\u001b[0m\u001b[1;33m[\u001b[0m\u001b[1;36m0\u001b[0m\u001b[1;33m]\u001b[0m\u001b[1;33m,\u001b[0m \u001b[0mmodel\u001b[0m\u001b[1;33m[\u001b[0m\u001b[1;36m1\u001b[0m\u001b[1;33m]\u001b[0m\u001b[1;33m)\u001b[0m\u001b[1;33m\u001b[0m\u001b[1;33m\u001b[0m\u001b[0m\n\u001b[0m",
      "\u001b[1;32m<ipython-input-28-8ad7c82aa36a>\u001b[0m in \u001b[0;36mplot_roc\u001b[1;34m(ax, model, title)\u001b[0m\n\u001b[0;32m      1\u001b[0m \u001b[1;32mdef\u001b[0m \u001b[0mplot_roc\u001b[0m\u001b[1;33m(\u001b[0m\u001b[0max\u001b[0m\u001b[1;33m,\u001b[0m \u001b[0mmodel\u001b[0m\u001b[1;33m,\u001b[0m \u001b[0mtitle\u001b[0m\u001b[1;33m)\u001b[0m\u001b[1;33m:\u001b[0m\u001b[1;33m\u001b[0m\u001b[1;33m\u001b[0m\u001b[0m\n\u001b[0;32m      2\u001b[0m     \u001b[0mprobas\u001b[0m \u001b[1;33m=\u001b[0m \u001b[0mmodel\u001b[0m\u001b[1;33m.\u001b[0m\u001b[0mpredict_proba\u001b[0m\u001b[1;33m(\u001b[0m\u001b[0mtest\u001b[0m\u001b[1;33m)\u001b[0m\u001b[1;33m\u001b[0m\u001b[1;33m\u001b[0m\u001b[0m\n\u001b[1;32m----> 3\u001b[1;33m     \u001b[0mskplt\u001b[0m\u001b[1;33m.\u001b[0m\u001b[0mmetrics\u001b[0m\u001b[1;33m.\u001b[0m\u001b[0mplot_roc\u001b[0m\u001b[1;33m(\u001b[0m\u001b[0my_true\u001b[0m\u001b[1;33m=\u001b[0m\u001b[0mtestC\u001b[0m\u001b[1;33m,\u001b[0m \u001b[0my_probas\u001b[0m\u001b[1;33m=\u001b[0m\u001b[0mprobas\u001b[0m\u001b[1;33m,\u001b[0m \u001b[0max\u001b[0m\u001b[1;33m=\u001b[0m\u001b[0max\u001b[0m\u001b[1;33m,\u001b[0m \u001b[0mtitle\u001b[0m\u001b[1;33m=\u001b[0m\u001b[0mtitle\u001b[0m\u001b[1;33m)\u001b[0m\u001b[1;33m\u001b[0m\u001b[1;33m\u001b[0m\u001b[0m\n\u001b[0m\u001b[0;32m      4\u001b[0m \u001b[1;33m\u001b[0m\u001b[0m\n\u001b[0;32m      5\u001b[0m \u001b[0mmodels\u001b[0m \u001b[1;33m=\u001b[0m \u001b[1;33m[\u001b[0m\u001b[1;33m(\u001b[0m\u001b[0mgc\u001b[0m\u001b[1;33m,\u001b[0m \u001b[1;34m\"Niave Bayes\"\u001b[0m\u001b[1;33m)\u001b[0m\u001b[1;33m,\u001b[0m \u001b[1;33m(\u001b[0m\u001b[0mknn\u001b[0m\u001b[1;33m,\u001b[0m \u001b[1;34m\"knn\"\u001b[0m\u001b[1;33m)\u001b[0m\u001b[1;33m,\u001b[0m \u001b[1;33m(\u001b[0m\u001b[0msvm\u001b[0m\u001b[1;33m,\u001b[0m \u001b[1;34m\"SVM\"\u001b[0m\u001b[1;33m)\u001b[0m\u001b[1;33m,\u001b[0m \u001b[1;33m(\u001b[0m\u001b[0mdt\u001b[0m\u001b[1;33m,\u001b[0m \u001b[1;34m\"Decision Tree\"\u001b[0m\u001b[1;33m)\u001b[0m\u001b[1;33m,\u001b[0m \u001b[1;33m(\u001b[0m\u001b[0mnn\u001b[0m\u001b[1;33m,\u001b[0m \u001b[1;34m\"Neural network\"\u001b[0m\u001b[1;33m)\u001b[0m\u001b[1;33m]\u001b[0m\u001b[1;33m\u001b[0m\u001b[1;33m\u001b[0m\u001b[0m\n",
      "\u001b[1;31mNameError\u001b[0m: name 'skplt' is not defined"
     ]
    },
    {
     "data": {
      "image/png": "[encoded data removed]",
      "text/plain": [
       "<Figure size 2160x432 with 5 Axes>"
      ]
     },
     "metadata": {
      "needs_background": "light"
     },
     "output_type": "display_data"
    }
   ],
   "source": [
    "def plot_roc(ax, model, title):\n",
    "    probas = model.predict_proba(test)\n",
    "    skplt.metrics.plot_roc(y_true=testC, y_probas=probas, ax=ax, title=title)\n",
    "\n",
    "models = [(gc, \"Niave Bayes\"), (knn, \"knn\"), (svm, \"SVM\"), (dt, \"Decision Tree\"), (nn, \"Neural network\")]\n",
    "fig, axes = plt.subplots(nrows=1, ncols=5, figsize=(30,6))\n",
    "for ax, model in zip(axes, models):\n",
    "    plot_roc(ax, model[0], model[1])"
   ]
  },
  {
   "cell_type": "markdown",
   "metadata": {},
   "source": [
    "[ROC Curve Explanation](https://en.wikipedia.org/wiki/Receiver_operating_characteristic)\n",
    "\n",
    "[Area Under the ROC Curve Explanation](http://gim.unmc.edu/dxtests/roc3.htm)\n",
    "\n",
    "The ROC curve shows the relationship between the true positive rate (i.e. correct classifications) and the false positive rate (i.e. incorrect classifications) with the area under the curve representing the accuracy of the model predications. Therefore, the closer the area is to one the better and it's ideal to have a curve that approaches a true positive rate of one quickly."
   ]
  },
  {
   "cell_type": "code",
   "execution_count": 29,
   "metadata": {},
   "outputs": [
    {
     "data": {
      "text/html": [
       "<div>\n",
       "<style scoped>\n",
       "    .dataframe tbody tr th:only-of-type {\n",
       "        vertical-align: middle;\n",
       "    }\n",
       "\n",
       "    .dataframe tbody tr th {\n",
       "        vertical-align: top;\n",
       "    }\n",
       "\n",
       "    .dataframe thead th {\n",
       "        text-align: right;\n",
       "    }\n",
       "</style>\n",
       "<table border=\"1\" class=\"dataframe\">\n",
       "  <thead>\n",
       "    <tr style=\"text-align: right;\">\n",
       "      <th></th>\n",
       "      <th>CONFIRMED</th>\n",
       "      <th>CANDIDATE</th>\n",
       "      <th>FALSE POSITIVE</th>\n",
       "      <th>accuracy</th>\n",
       "    </tr>\n",
       "  </thead>\n",
       "  <tbody>\n",
       "    <tr>\n",
       "      <th>Naive Bayes f1-score</th>\n",
       "      <td>0.719830</td>\n",
       "      <td>0.481448</td>\n",
       "      <td>0.975361</td>\n",
       "      <td>0.812797</td>\n",
       "    </tr>\n",
       "    <tr>\n",
       "      <th>KNN f1-score</th>\n",
       "      <td>0.676091</td>\n",
       "      <td>0.596645</td>\n",
       "      <td>0.981906</td>\n",
       "      <td>0.819449</td>\n",
       "    </tr>\n",
       "    <tr>\n",
       "      <th>SVM f1-score</th>\n",
       "      <td>0.716539</td>\n",
       "      <td>0.436538</td>\n",
       "      <td>0.980961</td>\n",
       "      <td>0.808996</td>\n",
       "    </tr>\n",
       "    <tr>\n",
       "      <th>Decision Tree f1-score</th>\n",
       "      <td>0.631440</td>\n",
       "      <td>0.608054</td>\n",
       "      <td>0.970997</td>\n",
       "      <td>0.803928</td>\n",
       "    </tr>\n",
       "    <tr>\n",
       "      <th>Neural Network f1-score</th>\n",
       "      <td>0.724157</td>\n",
       "      <td>0.565254</td>\n",
       "      <td>0.983041</td>\n",
       "      <td>0.829268</td>\n",
       "    </tr>\n",
       "  </tbody>\n",
       "</table>\n",
       "</div>"
      ],
      "text/plain": [
       "                         CONFIRMED  CANDIDATE  FALSE POSITIVE  accuracy\n",
       "Naive Bayes f1-score      0.719830   0.481448        0.975361  0.812797\n",
       "KNN f1-score              0.676091   0.596645        0.981906  0.819449\n",
       "SVM f1-score              0.716539   0.436538        0.980961  0.808996\n",
       "Decision Tree f1-score    0.631440   0.608054        0.970997  0.803928\n",
       "Neural Network f1-score   0.724157   0.565254        0.983041  0.829268"
      ]
     },
     "execution_count": 29,
     "metadata": {},
     "output_type": "execute_result"
    }
   ],
   "source": [
    "reports = [gc_report, knn_report, svm_report, dt_report, nn_report]\n",
    "cumulative = pd.DataFrame()\n",
    "for report in reports:\n",
    "    cumulative = pd.concat([cumulative, report])\n",
    "    \n",
    "cumulative.set_index(pd.Index([\"Naive Bayes f1-score\", \"KNN f1-score\",\n",
    "                               \"SVM f1-score\", \"Decision Tree f1-score\", \"Neural Network f1-score\"]))"
   ]
  },
  {
   "cell_type": "markdown",
   "metadata": {},
   "source": [
    "#### Individual Model Results\n",
    "- **Naive Bayes**: The ROC curve shows that the naive Bayes model has high accuracy for each label and can achieve a high true positive rate with a relatively low false positive rate. Furthermore, the f1-score for the CONFIRMED and FALSE POSITIVE indicates high precision and recall for those labels. The lower f1-score reiterates that the precision value for the CANDIDATE label is low, thus the model doesn’t predict CANDIDATE labels very accurately.\n",
    "\n",
    "- **KNN**: The ROC curve shows that the KNN model has high accuracy for each label and can achieve a high true positive rate with a relatively low false positive rate. Furthermore, the f1-score for the FALSE POSITIVE labels indicates high precision and recall for that label. The lower f1-score reiterates that the precision and recall value for the CANDIDATE label is low, thus the model doesn’t predict CANDIDATE labels very accurately, and it doesn’t recognize them very well.\n",
    "\n",
    "- **SVM**: The ROC curve shows that the SVM has high accuracy for each label and can achieve a high true positive rate with a relatively low false positive rate. Furthermore, the f1-score for the CONFIRMED and FALSE POSITIVE indicates high precision and recall for those labels. The lower f1-score reiterates that the precision value for the CANDIDATE label is low, thus the model doesn’t predict CANDIDATE labels very accurately.\n",
    "\n",
    "- **Decision Tree**: The ROC curve shows that the decision tree has a alright accuracy for each label, and can achieve a high true positive rate with a higher false positive rate. Furthermore, the f1-score for the CONFIRMED and FALSE POSITIVE indicates high precision and recall for those labels.\n",
    "\n",
    "- **Neural Network**: The ROC curve shows that the neural network has high accuracy for each label and can achieve a high true positive rate with a relatively low false positive rate. Furthermore, the f1-score for the CONFIRMED and FALSE POSITIVE indicates high precision and recall for those labels. \n",
    "\n",
    "#### Model Error \n",
    "The models recall and precision values are lower for the CANDIDATE and CONFIRMED label due to the overlapping and coupled definitions for the two labels. \n",
    "\n",
    "## Conclusion\n",
    "Each model is a viable candidate based off its accuracy, precision, and recall measurement. There are two type of classification approaches appropriate for this data set.\n",
    "\n",
    "1. CANDIDATE vs. FALSE POSITIVE: Since each star labeled as CONFIRMED technically meets the requirement of a CANDIDATE star you could use the classifier to separate stars into a CONFIRMED/CANDIDATE group and a FALSE POSITIVE group. Providing a model that essentially flags stars as not important, thus thinning the number of stars to be confirmed. Based on the results of all the models each one could be used for this type of classifier, but the SVM would be the best due to it high precision rate in both CONFIRMED and FALSE POSITIVE labels.\n",
    "\n",
    "2. A classifying model: This model would classify each star into its perspective label. Based on the results only the neural network has high enough scores all around to do this type of classification, and even with its scores it wouldn't perform exceedingly well.\n",
    "\n",
    "Overall every model could be used but the two the standout the most are the neural network and the SVM. Additional work that could be done in order to better the performance of the classifiers would be parameter tuning , readjusting some of the model choices to better fit the distribution of the data, and exploring the use of the koi_pdisposition as a label. "
   ]
  },
  {
   "cell_type": "code",
   "execution_count": null,
   "metadata": {},
   "outputs": [],
   "source": []
  }
 ],
 "metadata": {
  "kernelspec": {
   "display_name": "Python 3",
   "language": "python",
   "name": "python3"
  },
  "language_info": {
   "codemirror_mode": {
    "name": "ipython",
    "version": 3
   },
   "file_extension": ".py",
   "mimetype": "text/x-python",
   "name": "python",
   "nbconvert_exporter": "python",
   "pygments_lexer": "ipython3",
   "version": "3.7.6"
  }
 },
 "nbformat": 4,
 "nbformat_minor": 4
}
